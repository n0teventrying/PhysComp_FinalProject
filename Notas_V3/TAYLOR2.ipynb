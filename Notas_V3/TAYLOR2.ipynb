{
 "cells": [
  {
   "cell_type": "code",
   "execution_count": 5,
   "metadata": {},
   "outputs": [],
   "source": [
    "from sympy import *\n",
    "from pylab import*"
   ]
  },
  {
   "cell_type": "code",
   "execution_count": 18,
   "metadata": {},
   "outputs": [
    {
     "name": "stdout",
     "output_type": "stream",
     "text": [
      "The approximation of the solution at x=0.1 is 0.91\n"
     ]
    }
   ],
   "source": [
    "from sympy import symbols, Function\n",
    "\n",
    "def f(x,y):\n",
    "    return x-y**2\n",
    "def fy(x,y):\n",
    "    return -2*y\n",
    "x_0 = 0\n",
    "y_0 = 1\n",
    "x = 0.1\n",
    "approximation = y_0 + f(x_0,y_0)*(x-x_0) + 1/2*fy(x_0,y_0)*f(x_0,y_0)*(x-x_0)**2\n",
    "print(f\"The approximation of the solution at x={x} is {approximation}\")\n"
   ]
  },
  {
   "cell_type": "code",
   "execution_count": null,
   "metadata": {},
   "outputs": [],
   "source": []
  },
  {
   "cell_type": "code",
   "execution_count": null,
   "metadata": {},
   "outputs": [],
   "source": []
  },
  {
   "attachments": {},
   "cell_type": "markdown",
   "metadata": {},
   "source": [
    "# Función Test\n",
    "\n",
    "$$\n",
    "\\ddot x = - \\dot x^2 + \\sin(x)\n",
    "$$\n",
    "\n",
    "Vamos a descomponerla en un sistema de ecuaciones de primer grado, entonces, sea \n",
    "$$v = \\dot x ,\\, \\text{ent} $$\n",
    "$$\\,  \\dot v = -v^2+\\sin(x)$$"
   ]
  },
  {
   "cell_type": "code",
   "execution_count": 6,
   "metadata": {},
   "outputs": [],
   "source": [
    "import numpy as np\n",
    "\n",
    "def f(x,v):\n",
    "    dxdt = v\n",
    "    dvdt = -v**2+ np.sin(x)\n",
    "    return dxdt, dvdt\n",
    "x0 = 0\n",
    "v0 = 5\n",
    "S_0 = ( x0, v0) \n",
    "t0 = 0\n",
    "n  = 100\n",
    "h = 0.1\n",
    "def rk2(f,t0, x0, v0, h, n):\n",
    "    \"\"\"   \n",
    "    Parameters:\n",
    "        f: function that defines the system of ODEs x'=f(t,x,v)\n",
    "        t0: initial value of t\n",
    "        x0: initial value of x\n",
    "        v0: initial value of v\n",
    "        h: step size\n",
    "        n: number of steps to take\n",
    "        \n",
    "    Returns:\n",
    "        A list of tuples (t,x,v) containing the approximations for x and v at each step.\n",
    "    \"\"\"\n",
    "    solutions = [(t0, x0, v0)]\n",
    "    for i in range(n):\n",
    "        t, x, v = solutions[-1]\n",
    "        # Compute k1 and l1\n",
    "        k1x, k1v = f(t, x, v)\n",
    "        k1x *= h\n",
    "        k1v *= h\n",
    "        # Compute k2 and l2\n",
    "        k2x, k2v = f(t + 0.5 * h, x + 0.5 * k1x, v + 0.5 * k1v)\n",
    "        k2x *= h\n",
    "        k2v *= h\n",
    "        # Compute the next values of x and v\n",
    "        x_next = x + k2x\n",
    "        v_next = v + k2v\n",
    "        # Compute the next value of t\n",
    "        t_next = t + h\n",
    "        solutions.append((t_next, x_next, v_next))\n",
    "    return solutions"
   ]
  },
  {
   "cell_type": "code",
   "execution_count": 4,
   "metadata": {},
   "outputs": [
    {
     "name": "stdout",
     "output_type": "stream",
     "text": [
      "x(0) = 0, v(0) = 1\n",
      "x(0.1) = 0.0975, v(0.1) = 0.9604670779480645\n",
      "x(0.2) = 0.19199580081957318, v(0.2) = 0.936155980839126\n",
      "x(0.30000000000000004) = 0.2846283677267034, v(0.30000000000000004) = 0.9192717426237422\n",
      "x(0.4) = 0.3757548729162974, v(0.4) = 0.9023744730161808\n",
      "x(0.5) = 0.46502533225211573, v(0.5) = 0.8790983145901548\n",
      "x(0.6) = 0.5515202471670059, v(0.6) = 0.8446362650230884\n",
      "x(0.7) = 0.6339246642027181, v(0.7) = 0.7959825222030554\n",
      "x(0.7999999999999999) = 0.7107146882996378, v(0.7999999999999999) = 0.7319510393004318\n",
      "x(0.8999999999999999) = 0.7803355625031946, v(0.8999999999999999) = 0.6530098673689291\n",
      "x(0.9999999999999999) = 0.8413552333564639, v(0.9999999999999999) = 0.5609837037043938\n"
     ]
    }
   ],
   "source": [
    "# Set the initial values and step size\n",
    "t0 = 0\n",
    "x0 = 0\n",
    "v0 = 1\n",
    "h = 0.1\n",
    "\n",
    "# Set the number of steps to take\n",
    "n = 10\n",
    "\n",
    "# Solve the IVP using RK2\n",
    "solutions = rk2(f, t0, x0, v0, h, n)\n",
    "\n",
    "# Print the solutions\n",
    "for t, x, v in solutions:\n",
    "    print(f\"x({t}) = {x}, v({t}) = {v}\")"
   ]
  },
  {
   "cell_type": "code",
   "execution_count": null,
   "metadata": {},
   "outputs": [],
   "source": []
  },
  {
   "cell_type": "code",
   "execution_count": null,
   "metadata": {},
   "outputs": [],
   "source": []
  },
  {
   "cell_type": "code",
   "execution_count": null,
   "metadata": {},
   "outputs": [],
   "source": []
  },
  {
   "cell_type": "code",
   "execution_count": null,
   "metadata": {},
   "outputs": [],
   "source": []
  },
  {
   "cell_type": "code",
   "execution_count": 7,
   "metadata": {},
   "outputs": [],
   "source": [
    "import numpy as np\n",
    "\n",
    "def dSdx(x, S):\n",
    "    x,v = S\n",
    "    dxdt = v\n",
    "    dvdt = -v**2+ np.sin(x)\n",
    "    return dxdt, dvdt\n",
    "x0 = 0\n",
    "v0 = 5\n",
    "S_0 = ( x0, v0) \n",
    "t = np.linspace(0,1,100)\n",
    "\n",
    "def rk2MOD(dSdx, S_0, t):\n",
    "    S = np.zeros((len(t), len(S_0)))\n",
    "    S[0] = S_0\n",
    "    for i in range(1, len(t)):\n",
    "        dt = t[i] - t[i-1]\n",
    "        k1 = dSdx(t[i-1], S[i-1])\n",
    "        k2 = dSdx(t[i-1] + dt/2, S[i-1] + dt/2 * k1)\n",
    "        S[i] = S[i-1] + dt * k2\n",
    "    return S"
   ]
  },
  {
   "cell_type": "code",
   "execution_count": 13,
   "metadata": {},
   "outputs": [
    {
     "ename": "TypeError",
     "evalue": "can't multiply sequence by non-int of type 'numpy.float64'",
     "output_type": "error",
     "traceback": [
      "\u001b[1;31m---------------------------------------------------------------------------\u001b[0m",
      "\u001b[1;31mTypeError\u001b[0m                                 Traceback (most recent call last)",
      "\u001b[1;32mc:\\Users\\DELL\\Documents\\GitHub\\WACHINANGO\\TAYLOR2.ipynb Cell 13\u001b[0m in \u001b[0;36m<cell line: 1>\u001b[1;34m()\u001b[0m\n\u001b[1;32m----> <a href='vscode-notebook-cell:/c%3A/Users/DELL/Documents/GitHub/WACHINANGO/TAYLOR2.ipynb#X16sZmlsZQ%3D%3D?line=0'>1</a>\u001b[0m w \u001b[39m=\u001b[39m rk2MOD(dSdx, S_0, t)\n",
      "\u001b[1;32mc:\\Users\\DELL\\Documents\\GitHub\\WACHINANGO\\TAYLOR2.ipynb Cell 13\u001b[0m in \u001b[0;36mrk2MOD\u001b[1;34m(dSdx, S_0, t)\u001b[0m\n\u001b[0;32m     <a href='vscode-notebook-cell:/c%3A/Users/DELL/Documents/GitHub/WACHINANGO/TAYLOR2.ipynb#X16sZmlsZQ%3D%3D?line=16'>17</a>\u001b[0m     dt \u001b[39m=\u001b[39m t[i] \u001b[39m-\u001b[39m t[i\u001b[39m-\u001b[39m\u001b[39m1\u001b[39m]\n\u001b[0;32m     <a href='vscode-notebook-cell:/c%3A/Users/DELL/Documents/GitHub/WACHINANGO/TAYLOR2.ipynb#X16sZmlsZQ%3D%3D?line=17'>18</a>\u001b[0m     k1 \u001b[39m=\u001b[39m dSdx(t[i\u001b[39m-\u001b[39m\u001b[39m1\u001b[39m], S[i\u001b[39m-\u001b[39m\u001b[39m1\u001b[39m])\n\u001b[1;32m---> <a href='vscode-notebook-cell:/c%3A/Users/DELL/Documents/GitHub/WACHINANGO/TAYLOR2.ipynb#X16sZmlsZQ%3D%3D?line=18'>19</a>\u001b[0m     k2 \u001b[39m=\u001b[39m dSdx(t[i\u001b[39m-\u001b[39m\u001b[39m1\u001b[39m] \u001b[39m+\u001b[39m dt\u001b[39m/\u001b[39m\u001b[39m2\u001b[39m, S[i\u001b[39m-\u001b[39m\u001b[39m1\u001b[39m] \u001b[39m+\u001b[39m dt\u001b[39m/\u001b[39;49m\u001b[39m2\u001b[39;49m \u001b[39m*\u001b[39;49m k1)\n\u001b[0;32m     <a href='vscode-notebook-cell:/c%3A/Users/DELL/Documents/GitHub/WACHINANGO/TAYLOR2.ipynb#X16sZmlsZQ%3D%3D?line=19'>20</a>\u001b[0m     S[i] \u001b[39m=\u001b[39m S[i\u001b[39m-\u001b[39m\u001b[39m1\u001b[39m] \u001b[39m+\u001b[39m dt \u001b[39m*\u001b[39m k2\n\u001b[0;32m     <a href='vscode-notebook-cell:/c%3A/Users/DELL/Documents/GitHub/WACHINANGO/TAYLOR2.ipynb#X16sZmlsZQ%3D%3D?line=20'>21</a>\u001b[0m \u001b[39mreturn\u001b[39;00m S\n",
      "\u001b[1;31mTypeError\u001b[0m: can't multiply sequence by non-int of type 'numpy.float64'"
     ]
    }
   ],
   "source": [
    "w = rk2MOD(dSdx, S_0, t)"
   ]
  },
  {
   "cell_type": "code",
   "execution_count": null,
   "metadata": {},
   "outputs": [],
   "source": []
  }
 ],
 "metadata": {
  "kernelspec": {
   "display_name": "base",
   "language": "python",
   "name": "python3"
  },
  "language_info": {
   "codemirror_mode": {
    "name": "ipython",
    "version": 3
   },
   "file_extension": ".py",
   "mimetype": "text/x-python",
   "name": "python",
   "nbconvert_exporter": "python",
   "pygments_lexer": "ipython3",
   "version": "3.9.12"
  },
  "orig_nbformat": 4
 },
 "nbformat": 4,
 "nbformat_minor": 2
}
