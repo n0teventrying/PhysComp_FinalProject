{
 "cells": [
  {
   "cell_type": "code",
   "execution_count": 1,
   "metadata": {},
   "outputs": [],
   "source": [
    "from pylab import*"
   ]
  },
  {
   "attachments": {},
   "cell_type": "markdown",
   "metadata": {},
   "source": [
    "## Ejercicio #2 \n",
    "2 . Utilizando los integradores anteriores encuentre un paso que le asegure que la solución tenga por lo menos $4$ cifras significativas en el resultado de integración. La ecuación es la siguiente:\n",
    "\n",
    "$$\n",
    "y'''+{y''}^2- 3{y'}^3+\\cos^2(y) = e^{-t}\\sin(3t)\n",
    "$$\n",
    "Disclaimer: Por alguna razón no se renderiza el \\dddot para la derivada, pero hay que tomar en cuenta que esta notación indica que la derivada es respecto al tiempo.\\\n",
    "Con condiciones iniciales $\\ddot{y}(1) = 1,\\,  \\dot{y} = 2,\\,  y(1) = 1  $. En particular que sucede en el intervalo $t\\in[1,1.7]$, describa lo que sucede cuando $t \\rightarrow 2$"
   ]
  },
  {
   "attachments": {},
   "cell_type": "markdown",
   "metadata": {},
   "source": [
    "Bueno, como ya habiamos hecho con la ED de segundo orden, lo que debemos hacer es una sustitución en nuestra ED de tercer orden y asi obtener 3 ecuaciones de primer orden.\n",
    "Entonces sea \n",
    "$$\n",
    "z_1 = y, \\quad z_2 = \\dot{y}, \\quad z_3 = \\ddot{y}\n",
    "$$\n",
    "Entonces, tenemos que \n",
    "$$\n",
    "\\dot z_1 = z_2, \\quad \\dot z_2 = z_3, \\quad \\dot z_3 = e^{-t}\\sin(3t) - z_3^2 + 3z_2^3 - \\cos^2(z_1) \n",
    "$$\n",
    "Y nuestras nuevas condiciones inciales son:\n",
    "$$\n",
    "z_1(1) = 1, \\quad z_2(1) = 2, \\quad z_3(1) = 1\n",
    "$$"
   ]
  },
  {
   "attachments": {},
   "cell_type": "markdown",
   "metadata": {},
   "source": [
    "### Euler"
   ]
  },
  {
   "cell_type": "code",
   "execution_count": 9,
   "metadata": {},
   "outputs": [],
   "source": [
    "# Ahora podemos definir la siguiente función:\n",
    "def f(t, z):\n",
    "    z1, z2, z3 = z\n",
    "    return array([z2,\n",
    "                     z3,\n",
    "                     exp(-t)*sin(3*t) - z3**2 + 3*z2**3 - cos(z1)**2])\n",
    "\n",
    "\n",
    "z0 = array([1, 2, 1])\n",
    "\n",
    "t = linspace(1, 1.7, 100000)\n"
   ]
  },
  {
   "cell_type": "code",
   "execution_count": 10,
   "metadata": {},
   "outputs": [],
   "source": [
    "def eulerSystemSolver(z0, t):\n",
    "    z = [z0]\n",
    "    h = t[1] - t[0]\n",
    "    for i in range(0, len(t)-1): \n",
    "        z0 = z0 + h * np.array(f(t[i], z0))\n",
    "        z.append(z0)\n",
    "    return np.array(z)"
   ]
  },
  {
   "cell_type": "code",
   "execution_count": 12,
   "metadata": {},
   "outputs": [
    {
     "data": {
      "image/png": "[encoded data removed]",
      "text/plain": [
       "<Figure size 432x288 with 1 Axes>"
      ]
     },
     "metadata": {
      "needs_background": "light"
     },
     "output_type": "display_data"
    }
   ],
   "source": [
    "\n",
    "z = eulerSystemSolver(z0, t)\n",
    "plot(t, z[:, 0])\n",
    "xlabel('t')\n",
    "ylabel('y')\n",
    "show()"
   ]
  },
  {
   "cell_type": "code",
   "execution_count": null,
   "metadata": {},
   "outputs": [],
   "source": []
  },
  {
   "cell_type": "code",
   "execution_count": null,
   "metadata": {},
   "outputs": [],
   "source": []
  },
  {
   "cell_type": "code",
   "execution_count": null,
   "metadata": {},
   "outputs": [],
   "source": []
  },
  {
   "cell_type": "code",
   "execution_count": null,
   "metadata": {},
   "outputs": [],
   "source": []
  },
  {
   "cell_type": "code",
   "execution_count": null,
   "metadata": {},
   "outputs": [],
   "source": []
  },
  {
   "cell_type": "code",
   "execution_count": null,
   "metadata": {},
   "outputs": [],
   "source": []
  },
  {
   "cell_type": "code",
   "execution_count": 27,
   "metadata": {},
   "outputs": [],
   "source": [
    "def rungeKutta2single(f, y0, t):\n",
    "    y = [y0]\n",
    "    h = t[1] - t[0]\n",
    "    for i in range(0, len(t)-1):\n",
    "        k1 = f(y0, t[i-1])\n",
    "        k2 = f(y0 + h/2 * k1, t[i-1] + h/2)\n",
    "        y0 = y0 + h * k2\n",
    "        y.appendy(y0)\n",
    "    return array(y)\n",
    "def f(x, y):\n",
    "    return (x -y**2)\n",
    "x0 = 1\n",
    "t =linspace(0, 0.1, 100)\n",
    "x = rungeKutta2(f, x0, t)"
   ]
  },
  {
   "cell_type": "code",
   "execution_count": 28,
   "metadata": {},
   "outputs": [
    {
     "data": {
      "text/plain": [
       "[<matplotlib.lines.Line2D at 0x1b362fdfb50>]"
      ]
     },
     "execution_count": 28,
     "metadata": {},
     "output_type": "execute_result"
    },
    {
     "data": {
      "image/png": "[encoded data removed]",
      "text/plain": [
       "<Figure size 432x288 with 1 Axes>"
      ]
     },
     "metadata": {
      "needs_background": "light"
     },
     "output_type": "display_data"
    }
   ],
   "source": [
    "plot(   t, x, label='RK2')"
   ]
  },
  {
   "cell_type": "code",
   "execution_count": null,
   "metadata": {},
   "outputs": [],
   "source": []
  }
 ],
 "metadata": {
  "kernelspec": {
   "display_name": "base",
   "language": "python",
   "name": "python3"
  },
  "language_info": {
   "codemirror_mode": {
    "name": "ipython",
    "version": 3
   },
   "file_extension": ".py",
   "mimetype": "text/x-python",
   "name": "python",
   "nbconvert_exporter": "python",
   "pygments_lexer": "ipython3",
   "version": "3.9.12"
  },
  "orig_nbformat": 4
 },
 "nbformat": 4,
 "nbformat_minor": 2
}
