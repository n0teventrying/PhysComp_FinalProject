{
 "cells": [
  {
   "attachments": {},
   "cell_type": "markdown",
   "metadata": {},
   "source": [
    "# Tarea 2\n",
    "## Física Computacional"
   ]
  },
  {
   "attachments": {},
   "cell_type": "markdown",
   "metadata": {},
   "source": [
    " # Ejercicio 1\n",
    "Realice en un notebook en el que se explique y programen los siguientes algoritmos de integración de ecuaciones diferenciales:\n",
    "\n",
    "(a) Integración con el método de Euler.\\\n",
    "\n",
    "(b) Integración sobre serie de Taylor a $2°$ orden.\\\n",
    "\n",
    "(c) Integración con método de Runge-kutta de $2°$ orden.\\\n",
    "\n",
    "(d) Integración con método de Runge-Kutta de $4°$ orden.\\\n",
    "\n",
    "Verifique el funcionamiento de sus integradores encontrando la solución de la siguiente ecuación diferencial para $y(t)$"
   ]
  },
  {
   "attachments": {},
   "cell_type": "markdown",
   "metadata": {},
   "source": [
    "## Método de Euler\n",
    "Bueno, comenzamos con que tenemos una ecuación de la forma:\n",
    "$$\\begin{array}{ccc}\n",
    "\\frac{dy}{dx} = f(x,y) & \\text{con} &  y(x_0) = 0\n",
    "\\end{array}$$\n",
    "donde vamos a tomar los puntos de la siguiente manera: $x_0, x_1, ..., x_n \\in  [x_0, b]$.Entonces $x_i = x_0+ih$ con $i = 0,1,...,n$ donde $h = \\frac{b-x_0}{n}$.\\\n",
    "Denotaremos $y_0,y_1,...,y_n$ como $y(x_0),y_(x_1),..., y(x_n)$\\\n",
    "[REDACTED]\\\n",
    "Entonces \n",
    "$$\n",
    "y = y(x_i)+f(x_i,y(x_i))(x-x_i)\n",
    "$$\n",
    "Si dejamos a $x = x_i +h$ entonces\n",
    "$$ \n",
    "y_{i+1} =y(x_i)+hf(x_i,y(x_i)) \n",
    "$$\n",
    "Por la condición inicial tenemos que $y(x_0) = y_0$, si $i = 0$ entonces\n",
    "$$\n",
    "y_1 = y_0 + hf(x_0,y_0)\n",
    "$$\n",
    "\n",
    "Ahora para $i = 1$ entonces:\n",
    "$$\n",
    "y_2 = y(x_1)+hf(x_1,y(x_1))\n",
    "$$\n",
    "Pero no sabemos quien es $y(x_1)$ entonces $y(x_1)\\approx y_1$ entonces\n",
    "\n",
    "$$\n",
    "y_2 = y_1+hf(x_1,y_1)\n",
    "$$\n",
    "\n",
    "Y eventualmente \n",
    "$$\n",
    "y_n = y_{n-1}+hf(x_i,y_{n-1})\n",
    "$$\n"
   ]
  },
  {
   "cell_type": "code",
   "execution_count": 35,
   "metadata": {},
   "outputs": [],
   "source": [
    "from pylab import*\n",
    "from math import*"
   ]
  },
  {
   "cell_type": "code",
   "execution_count": 36,
   "metadata": {},
   "outputs": [],
   "source": [
    "def eulerV10( x0, y, h, x ):\n",
    "# Bueno, definimos Euler siguiendo el algoritmo\n",
    "#El paso n = paso n-1 y le sumamos h*f(x0,y_n-1)\n",
    "    Guanabana = 0 \n",
    "#Guardamos el valor de y\n",
    "    while x0 < x:\n",
    "#Tenemos que hacer un while para que se repita el proceso hasta que x0 = x, el paso h        \n",
    "        Guanabana = y\n",
    "        y = y + h * f(x0, y)\n",
    "#Pues Euler \n",
    "        x0 = x0 + h\n",
    "#Aquí sumamos el paso h\n",
    "    return y\n",
    "# Y obtenemos el nuevo valor de y"
   ]
  },
  {
   "attachments": {},
   "cell_type": "markdown",
   "metadata": {},
   "source": [
    "Esta primera fase del código para Euler, fue pensada en que teniamos una condición inicial, nuestra y inicial, el paso y en que punto se iba a evaluar la ecuación diferencial.\\\n",
    "La siguiente ecuación diferencial es la que voy a usar como prueba, para el caso de primer grado.\n",
    "\n",
    "$$\n",
    "\\frac{dy}{dx} = x-y^2 \\quad \\text{con} \\quad y(0) = 1 \\quad \\text{y} \\quad x = 0.1\n",
    "$$"
   ]
  },
  {
   "attachments": {},
   "cell_type": "markdown",
   "metadata": {},
   "source": [
    "### Euler Single Point"
   ]
  },
  {
   "cell_type": "code",
   "execution_count": 37,
   "metadata": {},
   "outputs": [
    {
     "data": {
      "text/plain": [
       "0.9136738702500853"
      ]
     },
     "execution_count": 37,
     "metadata": {},
     "output_type": "execute_result"
    }
   ],
   "source": [
    "def f( x, y ):\n",
    "    return (x-y**2)    \n",
    "x0 = 0\n",
    "y0 = 1\n",
    "h = 0.001\n",
    "x = 0.1 \n",
    "eulerV10(x0, y0, h, x)"
   ]
  },
  {
   "attachments": {},
   "cell_type": "markdown",
   "metadata": {},
   "source": [
    "Como podemos ver este método no es muy preciso, a menos que el paso lo hagamos pequeño."
   ]
  },
  {
   "cell_type": "code",
   "execution_count": 38,
   "metadata": {},
   "outputs": [],
   "source": [
    "#esta nueva versión acepta un arreglo de valores de x\n",
    "def eulerV15(f, y0, t):\n",
    "    y = [y0]\n",
    "    h = t[1] - t[0]\n",
    "    for i in range(0, len(t)-1): \n",
    "        y0 = y0 + h * f(t[i], y0)\n",
    "        y.append(y0)\n",
    "    return array(y)"
   ]
  },
  {
   "cell_type": "code",
   "execution_count": 39,
   "metadata": {},
   "outputs": [
    {
     "data": {
      "image/png": "[encoded data removed]",
      "text/plain": [
       "<Figure size 432x288 with 1 Axes>"
      ]
     },
     "metadata": {
      "needs_background": "light"
     },
     "output_type": "display_data"
    }
   ],
   "source": [
    "y0 = 1\n",
    "t = linspace(0, 0.1, 100) \n",
    "#Aquí viene incluido, x0, x, y h \n",
    "wasa = eulerV15(f, y0, t)\n",
    "plot(t,wasa)\n",
    "show()"
   ]
  },
  {
   "attachments": {},
   "cell_type": "markdown",
   "metadata": {},
   "source": [
    "### Pero , ¿qué pasa si tenemos una ecuación de segundo grado?"
   ]
  },
  {
   "cell_type": "code",
   "execution_count": 40,
   "metadata": {},
   "outputs": [],
   "source": [
    "def f2(t, x, v):\n",
    "    return v, exp(-t)*sin(3*t) - 0.5*v - sin(x)"
   ]
  },
  {
   "cell_type": "code",
   "execution_count": 41,
   "metadata": {},
   "outputs": [
    {
     "data": {
      "image/png": "[encoded data removed]",
      "text/plain": [
       "<Figure size 432x288 with 1 Axes>"
      ]
     },
     "metadata": {
      "needs_background": "light"
     },
     "output_type": "display_data"
    }
   ],
   "source": [
    "def eulerV20(f, x0, v0, t):\n",
    "    x = [x0] #lista de valores de x\n",
    "    h = t[1] - t[0] # paso\n",
    "    for i in range(0, len(t)-1): \n",
    "        x0 = x0 + h * f(t[i-1], x0, v0)[0] # \n",
    "        v0 = v0 + h * f(t[i-1], x0, v0)[1]\n",
    "        x.append(x0)\n",
    "    return array(x)\n",
    "x0 = 0 #condicion incial\n",
    "v0 = 1 #condicion inical \n",
    "t = np.linspace(0, 10, 100) # intervalo de tiempo\n",
    "x = eulerV20(f2, x0, v0, t)  # solucion numerica\n",
    "plot(t, x)\n",
    "xlabel('t')\n",
    "ylabel('x')\n",
    "show()"
   ]
  },
  {
   "attachments": {},
   "cell_type": "markdown",
   "metadata": {},
   "source": [
    "## Taylor de segundo orden"
   ]
  },
  {
   "attachments": {},
   "cell_type": "markdown",
   "metadata": {},
   "source": [
    "Tenemos lo mismo.\n",
    "$$\n",
    "\\begin{array}{ccc}\n",
    "\\frac{dy}{dx} = f(x,y) & \\text{con} & y(x_0)= y_0\n",
    "\\end{array}\n",
    "$$\n",
    "Si expandimos y alrededor de $x_0$ entonces\n",
    "$$\n",
    "y(x) \\approx y(x_0)+\\frac{(x-x_0)}{1!}y'(x_0)+\\frac{(x-x_0)^2}{2!}y''(x_0)\n",
    "$$\n",
    "\n",
    "Tenemos que \n",
    "$$\n",
    "\\begin{array}{ccc} \\frac{dy}{dx} = f(x,y) & \\text{y} & \\frac{dy^2}{dx^2} = \\frac{df}{dx} = \\frac{df}{dy}\\cdot \\frac{dy}{dx} = f_{y}(x,y)\\cdot f(x,y)\n",
    "\\end{array}\n",
    "$$\n",
    "i.e\n",
    "$$\n",
    "y(x) \\approx y(x_0)+\\frac{(x-x_0)}{1!}f(x_0,y_0)+\\frac{(x-x_0)^2}{2!}f_{y}(x_0,y_0)\\cdot f(x_0,y_0)\n",
    "$$"
   ]
  },
  {
   "attachments": {},
   "cell_type": "markdown",
   "metadata": {},
   "source": [
    "Recordando a nuestro amigo:\n",
    "$$\n",
    "\\frac{dy}{dx} = x-y^2 \\quad \\text{con} \\quad y(0) = 1 \\quad \\text{y} \\quad x = 0.1\n",
    "$$\n",
    "\n",
    "Para este método, vamos a necesitar la derivada de la función respecto a $y$, entonces tenemos que $f_{y}(x,y) = -2y$ "
   ]
  },
  {
   "cell_type": "code",
   "execution_count": 42,
   "metadata": {},
   "outputs": [],
   "source": [
    "#Antes de comenzar a meter valores definamos el algoritmo de Taylor de orden 2\n",
    "def Taylor2V10(f,fy):\n",
    "    y = y_0 + f(x_0,y_0)*(x-x_0) + 1/2*fy(x_0,y_0)*f(x_0,y_0)*(x-x_0)**2\n",
    "    return y\n",
    "# que como podemos apreciar no necesita de un ciclo, solo es una evaluación y ya."
   ]
  },
  {
   "cell_type": "code",
   "execution_count": 43,
   "metadata": {},
   "outputs": [
    {
     "data": {
      "image/png": "[encoded data removed]",
      "text/plain": [
       "<Figure size 432x288 with 1 Axes>"
      ]
     },
     "metadata": {
      "needs_background": "light"
     },
     "output_type": "display_data"
    }
   ],
   "source": [
    "x_0 = 0\n",
    "y_0 = 1\n",
    "x = linspace(0,0.1,100)\n",
    "def fy(f,y):\n",
    "    return -2*y\n",
    "\n",
    "x = linspace(0,0.1,100)\n",
    "WESO = Taylor2V10(f,fy)\n",
    "plot(x,WESO)\n",
    "show()"
   ]
  },
  {
   "attachments": {},
   "cell_type": "markdown",
   "metadata": {},
   "source": [
    "## Taylor de segundo orden para ecuaciones de segundo grado"
   ]
  },
  {
   "cell_type": "code",
   "execution_count": 44,
   "metadata": {},
   "outputs": [
    {
     "data": {
      "image/png": "[encoded data removed]",
      "text/plain": [
       "<Figure size 432x288 with 1 Axes>"
      ]
     },
     "metadata": {
      "needs_background": "light"
     },
     "output_type": "display_data"
    }
   ],
   "source": [
    "def Taylor2V20(F, Fy, u0, t):\n",
    "    n = len(u0)\n",
    "    u = zeros((len(t), n))\n",
    "    u[0] = u0\n",
    "    h = t[1] - t[0]\n",
    "    for i in range(0, len(t) - 1):\n",
    "        k1 = F(u[i], t[i])\n",
    "        k2 = dot(Fy(u[i], t[i]), k1)\n",
    "        u[i+1] = u[i] + h * k1 + 0.5 * h**2 * k2\n",
    "    return u\n",
    "def F(u, t):\n",
    "    x, y = u\n",
    "    return array([y, exp(-t) * sin(3 * t) - 0.5 * y - sin(x)])\n",
    "def Fy(u, t):\n",
    "    x, y = u\n",
    "    return array([[0, 1], [-cos(x), -0.5]])\n",
    "\n",
    "u0 = [0, 1]\n",
    "t = linspace(0, 10, 100)\n",
    "u = Taylor2V20(F, Fy, u0, t)\n",
    "plot(t, u[:,0])\n",
    "xlabel('t')\n",
    "ylabel('x(t)')\n",
    "show()"
   ]
  },
  {
   "attachments": {},
   "cell_type": "markdown",
   "metadata": {},
   "source": [
    "# RUNGE KUTTA 2° ORDEN"
   ]
  },
  {
   "attachments": {},
   "cell_type": "markdown",
   "metadata": {},
   "source": [
    "Bueno, esos métodos pertenece a la familia de métodos de Runge-Kutta, pero no noes centraremos en eso, solo describiremos brevemente el algoritmo a seguir.\n",
    "$$\n",
    "\\begin{array}{ccc}\n",
    "\\frac{dy}{dx} = f(x,y) & \\text{con} & y(x_0)= y_0\n",
    "\\end{array}\n",
    "$$\n",
    "\n",
    "$$ \n",
    "y_{i+1} = y_i + \\frac{h}{2}(k_1+k_2) \\quad \\text{con} \\quad k_1 = f(x_i,y_i) \\quad \\text{y} \\quad k_2 = f(x_i+h,y_i+hk_1) \n",
    "$$\n",
    " \n"
   ]
  },
  {
   "attachments": {},
   "cell_type": "markdown",
   "metadata": {},
   "source": [
    "### Single point Runge-Kutta 2° orden"
   ]
  },
  {
   "cell_type": "code",
   "execution_count": 45,
   "metadata": {},
   "outputs": [],
   "source": [
    "def rk2SP(f, y0, x0, x, h):\n",
    "    n = int((x - x0) / h)\n",
    "    y = y0\n",
    "    for i in range(n):\n",
    "        k1 = h * f(x0, y)\n",
    "        k2 = h * f(x0 + h, y + k1)\n",
    "        y += 0.5 * (k1 + k2)\n",
    "        x0 += h\n",
    "    return y"
   ]
  },
  {
   "cell_type": "code",
   "execution_count": 46,
   "metadata": {},
   "outputs": [
    {
     "data": {
      "text/plain": [
       "0.9137943938444608"
      ]
     },
     "execution_count": 46,
     "metadata": {},
     "output_type": "execute_result"
    }
   ],
   "source": [
    "def f( x, y ):\n",
    "    return (x-y**2)    \n",
    "x0 = 0\n",
    "y0 = 1\n",
    "h = 0.001\n",
    "x = 0.1 \n",
    "rk2SP(f, y0,x0, x, h)"
   ]
  },
  {
   "attachments": {},
   "cell_type": "markdown",
   "metadata": {},
   "source": [
    "Vamos a elevar esto a un conjunto de puntos, espero que no sea redundante, pero asi es como lo entiendo."
   ]
  },
  {
   "attachments": {},
   "cell_type": "markdown",
   "metadata": {},
   "source": [
    "### Runge-Kutta 2° orden Set of Points  "
   ]
  },
  {
   "cell_type": "code",
   "execution_count": 47,
   "metadata": {},
   "outputs": [],
   "source": [
    "def rk2SOP(f, y0, x):\n",
    "    n = len(x)\n",
    "    y = [y0]\n",
    "    h = x[1] - x[0]\n",
    "    for i in range(n-1):\n",
    "        k1 = h * f(x[i], y[i])\n",
    "        k2 = h * f(x[i] + h, y[i] + k1)\n",
    "        y.append(y[i] + 0.5 * (k1 + k2))\n",
    "    return y"
   ]
  },
  {
   "cell_type": "code",
   "execution_count": 48,
   "metadata": {},
   "outputs": [
    {
     "data": {
      "image/png": "[encoded data removed]",
      "text/plain": [
       "<Figure size 432x288 with 1 Axes>"
      ]
     },
     "metadata": {
      "needs_background": "light"
     },
     "output_type": "display_data"
    }
   ],
   "source": [
    "y0 = 1\n",
    "t = linspace(0, 0.1, 100) \n",
    "#Aquí viene incluido, x0, x, y h \n",
    "wasa3 = rk2SOP(f, y0, t)\n",
    "plot(t,wasa)\n",
    "show()"
   ]
  },
  {
   "attachments": {},
   "cell_type": "markdown",
   "metadata": {},
   "source": [
    "Y bueno, ahora para una ecuación de segundo grado, tenemos que poder ingresarle un conjunto de condiciones inciales, el conjunto de ecuaciones, que les hemos estado llamando Jacobiano, pero no voy a usar esa notacion, solo queremos algo practico por el momento."
   ]
  },
  {
   "cell_type": "code",
   "execution_count": 49,
   "metadata": {},
   "outputs": [],
   "source": [
    "def rk2SODESOP(f, y0, v0, x):\n",
    "    n = len(x)\n",
    "    y = [y0]\n",
    "    v = [v0]\n",
    "    for i in range(n-1):\n",
    "        h = x[i+1] - x[i]\n",
    "        k1_y = h * v[i]\n",
    "        k1_v = h * f(x[i], y[i], v[i])\n",
    "        k2_y = h * (v[i] + k1_v)\n",
    "        k2_v = h * f(x[i] + h, y[i] + k1_y, v[i] + k1_v)\n",
    "        y.append(y[i] + 0.5 * (k1_y + k2_y))\n",
    "        v.append(v[i] + 0.5 * (k1_v + k2_v))\n",
    "    return y"
   ]
  },
  {
   "cell_type": "code",
   "execution_count": 50,
   "metadata": {},
   "outputs": [],
   "source": [
    "def rk2SYS(f, U0, t):\n",
    "    n = len(t)\n",
    "    U = [U0]\n",
    "    for i in range(n-1):\n",
    "        h = t[i+1] - t[i]\n",
    "        k1 = h * f(U[i], t[i])\n",
    "        k2 = h * f(U[i] + k1, t[i] + h)\n",
    "        U.append(U[i] + 0.5 * (k1 + k2))\n",
    "    return np.array(U)\n",
    "\n",
    "\n"
   ]
  },
  {
   "cell_type": "code",
   "execution_count": 51,
   "metadata": {},
   "outputs": [
    {
     "data": {
      "text/plain": [
       "[<matplotlib.lines.Line2D at 0x21e148bee20>]"
      ]
     },
     "execution_count": 51,
     "metadata": {},
     "output_type": "execute_result"
    },
    {
     "data": {
      "image/png": "[encoded data removed]",
      "text/plain": [
       "<Figure size 432x288 with 1 Axes>"
      ]
     },
     "metadata": {
      "needs_background": "light"
     },
     "output_type": "display_data"
    }
   ],
   "source": [
    "def F(u, t):\n",
    "    x, y = u\n",
    "    return np.array([y, np.exp(-t) * np.sin(3 * t) - 0.5 * y - np.sin(x)])\n",
    "\n",
    "t = np.linspace(0, 10, 100)\n",
    "U0 = [1, 0]\n",
    "\n",
    "U = rk2SYS(F, U0, t)\n",
    "\n",
    "plot(t, U[:,0])\n"
   ]
  },
  {
   "cell_type": "code",
   "execution_count": null,
   "metadata": {},
   "outputs": [],
   "source": []
  },
  {
   "cell_type": "code",
   "execution_count": null,
   "metadata": {},
   "outputs": [],
   "source": []
  }
 ],
 "metadata": {
  "kernelspec": {
   "display_name": "base",
   "language": "python",
   "name": "python3"
  },
  "language_info": {
   "codemirror_mode": {
    "name": "ipython",
    "version": 3
   },
   "file_extension": ".py",
   "mimetype": "text/x-python",
   "name": "python",
   "nbconvert_exporter": "python",
   "pygments_lexer": "ipython3",
   "version": "3.9.12"
  },
  "orig_nbformat": 4
 },
 "nbformat": 4,
 "nbformat_minor": 2
}
