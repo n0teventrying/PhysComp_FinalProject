{
 "cells": [
  {
   "cell_type": "code",
   "execution_count": 1,
   "id": "ee50a452",
   "metadata": {},
   "outputs": [],
   "source": [
    "%%capture\n",
    "from pylab import*\n",
    "from matplotlib import animation, rc\n",
    "from IPython.display import HTML\n",
    "\n",
    "def Mat_A_inv(Nx,r):\n",
    "    A = zeros((Nx,Nx))\n",
    "    dd , m_r = 2*(1+r) , -r\n",
    "    for i in range(Nx-1):\n",
    "        A[i,i] = dd\n",
    "        A[i+1,i] = m_r\n",
    "        A[i,i+1] = m_r\n",
    "    A[-1,-1] = dd\n",
    "    A_inv = inv(A)\n",
    "    return A_inv\n",
    "\n",
    "def Mat_B(Nx,r):\n",
    "    B = zeros((Nx,Nx))\n",
    "    dd = 2*(1-r)\n",
    "    for i in range(Nx-1):\n",
    "        B[i,i] = dd\n",
    "        B[i+1,i] = r\n",
    "        B[i,i+1] = r\n",
    "    B[-1,-1] = dd\n",
    "    return B\n",
    "def Crank_Nicolson(Psi0,x,t,D=1):\n",
    "    dt , dx = t[1]-t[0] , x[1]-x[0]\n",
    "    Psi_total = zeros((len(t),len(Psi0)))\n",
    "    Psi_total[0,:] = Psi0 \n",
    "    r = D*dt/(dx**2)\n",
    "    if r < 1:\n",
    "        print('Voy a evolucionar con valor r= %2.2f' %r)\n",
    "        Nx = len(Psi0[1:-1])\n",
    "        Ainv , B = Mat_A_inv(Nx,r) , Mat_B(Nx,r)\n",
    "        Ainv_B = dot(Ainv,B)\n",
    "        for i in range(len(t)-1):\n",
    "            Psi_total[i+1,1:-1] = dot(Ainv_B,Psi_total[i,1:-1])\n",
    "    else:\n",
    "        print('Valor de r= %2.2f no convergente' %r)\n",
    "    return Psi_total\n",
    "x = linspace(0,1,30)\n",
    "t = linspace(0,0.4,500)\n",
    "Psi0 = -x*(x-1)*sin(x)\n",
    "Psi_total = Crank_Nicolson(Psi0,x,t)\n",
    "\n",
    "fig = figure()\n",
    "ejes = axes(xlim=(0,1),ylim=(0,0.15)) \n",
    "psi_frame, = ejes.plot([],[],c ='tab:purple')\n",
    "\n",
    "def animar(i):\n",
    "    psi_frame.set_data(x,Psi_total[i,:])\n",
    "    return psi_frame,\n",
    "\n",
    "pelicula = animation.FuncAnimation(fig,animar,frames=len(t),blit=True)\n",
    "#HTML(pelicula.to_html5_video())\n",
    "\n",
    "#pelicula.save('calor1.mp4')\n"
   ]
  },
  {
   "cell_type": "code",
   "execution_count": 2,
   "id": "61ab3b0f",
   "metadata": {},
   "outputs": [
    {
     "ename": "RuntimeError",
     "evalue": "Requested MovieWriter (ffmpeg) not available",
     "output_type": "error",
     "traceback": [
      "\u001b[1;31m---------------------------------------------------------------------------\u001b[0m",
      "\u001b[1;31mRuntimeError\u001b[0m                              Traceback (most recent call last)",
      "\u001b[1;32mc:\\Users\\DELL\\Documents\\GitHub\\WACHINANGO\\peli_calor.ipynb Cell 2\u001b[0m in \u001b[0;36m<cell line: 1>\u001b[1;34m()\u001b[0m\n\u001b[1;32m----> <a href='vscode-notebook-cell:/c%3A/Users/DELL/Documents/GitHub/WACHINANGO/peli_calor.ipynb#W1sZmlsZQ%3D%3D?line=0'>1</a>\u001b[0m HTML(pelicula\u001b[39m.\u001b[39;49mto_html5_video())\n",
      "File \u001b[1;32mc:\\Users\\DELL\\anaconda3\\lib\\site-packages\\matplotlib\\animation.py:1266\u001b[0m, in \u001b[0;36mAnimation.to_html5_video\u001b[1;34m(self, embed_limit)\u001b[0m\n\u001b[0;32m   1263\u001b[0m path \u001b[39m=\u001b[39m Path(tmpdir, \u001b[39m\"\u001b[39m\u001b[39mtemp.m4v\u001b[39m\u001b[39m\"\u001b[39m)\n\u001b[0;32m   1264\u001b[0m \u001b[39m# We create a writer manually so that we can get the\u001b[39;00m\n\u001b[0;32m   1265\u001b[0m \u001b[39m# appropriate size for the tag\u001b[39;00m\n\u001b[1;32m-> 1266\u001b[0m Writer \u001b[39m=\u001b[39m writers[mpl\u001b[39m.\u001b[39;49mrcParams[\u001b[39m'\u001b[39;49m\u001b[39manimation.writer\u001b[39;49m\u001b[39m'\u001b[39;49m]]\n\u001b[0;32m   1267\u001b[0m writer \u001b[39m=\u001b[39m Writer(codec\u001b[39m=\u001b[39m\u001b[39m'\u001b[39m\u001b[39mh264\u001b[39m\u001b[39m'\u001b[39m,\n\u001b[0;32m   1268\u001b[0m                 bitrate\u001b[39m=\u001b[39mmpl\u001b[39m.\u001b[39mrcParams[\u001b[39m'\u001b[39m\u001b[39manimation.bitrate\u001b[39m\u001b[39m'\u001b[39m],\n\u001b[0;32m   1269\u001b[0m                 fps\u001b[39m=\u001b[39m\u001b[39m1000.\u001b[39m \u001b[39m/\u001b[39m \u001b[39mself\u001b[39m\u001b[39m.\u001b[39m_interval)\n\u001b[0;32m   1270\u001b[0m \u001b[39mself\u001b[39m\u001b[39m.\u001b[39msave(\u001b[39mstr\u001b[39m(path), writer\u001b[39m=\u001b[39mwriter)\n",
      "File \u001b[1;32mc:\\Users\\DELL\\anaconda3\\lib\\site-packages\\matplotlib\\animation.py:151\u001b[0m, in \u001b[0;36mMovieWriterRegistry.__getitem__\u001b[1;34m(self, name)\u001b[0m\n\u001b[0;32m    149\u001b[0m \u001b[39mif\u001b[39;00m \u001b[39mself\u001b[39m\u001b[39m.\u001b[39mis_available(name):\n\u001b[0;32m    150\u001b[0m     \u001b[39mreturn\u001b[39;00m \u001b[39mself\u001b[39m\u001b[39m.\u001b[39m_registered[name]\n\u001b[1;32m--> 151\u001b[0m \u001b[39mraise\u001b[39;00m \u001b[39mRuntimeError\u001b[39;00m(\u001b[39mf\u001b[39m\u001b[39m\"\u001b[39m\u001b[39mRequested MovieWriter (\u001b[39m\u001b[39m{\u001b[39;00mname\u001b[39m}\u001b[39;00m\u001b[39m) not available\u001b[39m\u001b[39m\"\u001b[39m)\n",
      "\u001b[1;31mRuntimeError\u001b[0m: Requested MovieWriter (ffmpeg) not available"
     ]
    }
   ],
   "source": [
    "HTML(pelicula.to_html5_video())"
   ]
  },
  {
   "cell_type": "code",
   "execution_count": null,
   "id": "f1dce259",
   "metadata": {},
   "outputs": [],
   "source": []
  }
 ],
 "metadata": {
  "kernelspec": {
   "display_name": "Python 3 (ipykernel)",
   "language": "python",
   "name": "python3"
  },
  "language_info": {
   "codemirror_mode": {
    "name": "ipython",
    "version": 3
   },
   "file_extension": ".py",
   "mimetype": "text/x-python",
   "name": "python",
   "nbconvert_exporter": "python",
   "pygments_lexer": "ipython3",
   "version": "3.9.12"
  }
 },
 "nbformat": 4,
 "nbformat_minor": 5
}
