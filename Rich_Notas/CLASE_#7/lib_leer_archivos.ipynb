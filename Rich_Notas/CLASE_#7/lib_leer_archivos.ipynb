{
 "cells": [
  {
   "cell_type": "code",
   "execution_count": null,
   "id": "939b2399",
   "metadata": {},
   "outputs": [],
   "source": [
    "from pylab import*\n",
    "import csv"
   ]
  },
  {
   "cell_type": "code",
   "execution_count": null,
   "id": "d4dd178c",
   "metadata": {},
   "outputs": [],
   "source": [
    "def leer_archivo_2col(nombre_del_archivo,cabeza=1):\n",
    "    todos_los_datos =[]\n",
    "    #lectura del archivo y captura de datos\n",
    "    with open(nombre_del_archivo) as csvfile:\n",
    "        datos_leidos = csv.reader(csvfile,delimiter=',')\n",
    "        for renglon in datos_leidos:\n",
    "            todos_los_datos.append(renglon)\n",
    "    #acomodar e interpretar datos\n",
    "    N_datos = len(todos_los_datos[cabeza:])\n",
    "    datos_numericos = zeros((2,N_datos))\n",
    "    for i in range(N_datos):\n",
    "        datos_numericos[0,i] = float(todos_los_datos[i+cabeza][0])\n",
    "        datos_numericos[1,i] = float(todos_los_datos[i+cabeza][1])\n",
    "    return datos_numericos"
   ]
  },
  {
   "cell_type": "code",
   "execution_count": null,
   "id": "6c61b9d1",
   "metadata": {},
   "outputs": [],
   "source": [
    "print('Listo \\U0001f600')"
   ]
  },
  {
   "cell_type": "code",
   "execution_count": null,
   "id": "b9b13e2d",
   "metadata": {},
   "outputs": [],
   "source": [
    "def derivar_f_h3(x,f):\n",
    "    N = len(f)\n",
    "    f_prima = zeros_like(f)\n",
    "    dosh , h = x[2]-x[0] , x[1]-x[0]\n",
    "    for i in range(1,len(f)-1):\n",
    "        f_prima[i] = (f[i+1]-f[i-1])/dosh\n",
    "    f_prima[0] = (-0.5*f[2]+2*f[1]-1.5*f[0])/h\n",
    "    f_prima[-1] = -(-0.5*f[-3]+2*f[-2]-1.5*f[-1])/h\n",
    "    return f_prima"
   ]
  }
 ],
 "metadata": {
  "kernelspec": {
   "display_name": "Python 3 (ipykernel)",
   "language": "python",
   "name": "python3"
  },
  "language_info": {
   "codemirror_mode": {
    "name": "ipython",
    "version": 3
   },
   "file_extension": ".py",
   "mimetype": "text/x-python",
   "name": "python",
   "nbconvert_exporter": "python",
   "pygments_lexer": "ipython3",
   "version": "3.9.13"
  }
 },
 "nbformat": 4,
 "nbformat_minor": 5
}
