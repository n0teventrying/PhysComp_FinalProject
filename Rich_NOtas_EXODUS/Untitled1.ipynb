{
 "cells": [
  {
   "cell_type": "code",
   "execution_count": 1,
   "id": "e0aa69fc",
   "metadata": {},
   "outputs": [],
   "source": [
    "from pylab import*"
   ]
  },
  {
   "cell_type": "code",
   "execution_count": 2,
   "id": "8cfc6854",
   "metadata": {},
   "outputs": [],
   "source": [
    "def Pot_van_der_waals(x):\n",
    "    return -2/x**6 +1/x**12"
   ]
  },
  {
   "cell_type": "code",
   "execution_count": null,
   "id": "88cd786f",
   "metadata": {},
   "outputs": [],
   "source": []
  }
 ],
 "metadata": {
  "kernelspec": {
   "display_name": "Python 3 (ipykernel)",
   "language": "python",
   "name": "python3"
  },
  "language_info": {
   "codemirror_mode": {
    "name": "ipython",
    "version": 3
   },
   "file_extension": ".py",
   "mimetype": "text/x-python",
   "name": "python",
   "nbconvert_exporter": "python",
   "pygments_lexer": "ipython3",
   "version": "3.9.13"
  }
 },
 "nbformat": 4,
 "nbformat_minor": 5
}
