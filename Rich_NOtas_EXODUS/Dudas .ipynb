{
 "cells": [
  {
   "cell_type": "code",
   "execution_count": 19,
   "id": "88e76b7b",
   "metadata": {},
   "outputs": [],
   "source": [
    "from pylab import*\n",
    "import numpy as np"
   ]
  },
  {
   "cell_type": "code",
   "execution_count": 28,
   "id": "b8f3cff4",
   "metadata": {},
   "outputs": [
    {
     "name": "stdout",
     "output_type": "stream",
     "text": [
      "0.20426794884766816\n"
     ]
    }
   ],
   "source": [
    "import numpy as np\n",
    "\n",
    "def hildebrand(f, a, b, h):\n",
    "    N = int((b-a)/h)\n",
    "    x = np.linspace(a, b, N+1)\n",
    "    s = np.zeros(N+1)\n",
    "    for i in range(2, N-2):\n",
    "        s[i] = f(x[i]) * (19/15) + f(x[i+1]) * (17/45) + f(x[i-1]) * (17/45) - f(x[i+2]) * (1/90) - f(x[i-2]) * (1/90)\n",
    "    s[0] = f(x[0]) * (251/720) + f(x[1]) * (323/360) - f(x[2]) * (11/30) + f(x[3]) * (53/360) - f(x[4]) * (19/720)\n",
    "    s[1] = f(x[1]) * (251/720) + f(x[2]) * (323/360) - f(x[3]) * (11/30) + f(x[4]) * (53/360) - f(x[5]) * (19/720)\n",
    "    s[N-1] = f(x[N-1]) * (251/720) + f(x[N-2]) * (323/360) - f(x[N-3]) * (11/30) + f(x[N-4]) * (53/360) - f(x[N-5]) * (19/720)\n",
    "    s[N] = f(x[N]) * (251/720) + f(x[N-1]) * (323/360) - f(x[N-2]) * (11/30) + f(x[N-3]) * (53/360) - f(x[N-4]) * (19/720)\n",
    "    return h * np.sum(s)\n",
    "\n",
    "def f(x):\n",
    "    return np.exp(-x**2) * np.sin(10*x)\n",
    "\n",
    "result = hildebrand(f, 0, 5, 0.0002)\n",
    "print(result)"
   ]
  },
  {
   "cell_type": "code",
   "execution_count": null,
   "id": "7d1219bb",
   "metadata": {},
   "outputs": [],
   "source": []
  }
 ],
 "metadata": {
  "kernelspec": {
   "display_name": "Python 3 (ipykernel)",
   "language": "python",
   "name": "python3"
  },
  "language_info": {
   "codemirror_mode": {
    "name": "ipython",
    "version": 3
   },
   "file_extension": ".py",
   "mimetype": "text/x-python",
   "name": "python",
   "nbconvert_exporter": "python",
   "pygments_lexer": "ipython3",
   "version": "3.9.13"
  }
 },
 "nbformat": 4,
 "nbformat_minor": 5
}
